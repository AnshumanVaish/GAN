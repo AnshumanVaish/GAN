{
 "cells": [
  {
   "cell_type": "code",
   "execution_count": 1,
   "metadata": {},
   "outputs": [
    {
     "name": "stderr",
     "output_type": "stream",
     "text": [
      "C:\\Users\\anshu\\Anaconda3\\lib\\site-packages\\h5py\\__init__.py:36: FutureWarning: Conversion of the second argument of issubdtype from `float` to `np.floating` is deprecated. In future, it will be treated as `np.float64 == np.dtype(float).type`.\n",
      "  from ._conv import register_converters as _register_converters\n"
     ]
    }
   ],
   "source": [
    "import numpy as np\n",
    "import tensorflow as tf\n",
    "from tensorflow.examples.tutorials.mnist import input_data\n",
    "import matplotlib.pyplot as plt\n",
    "%matplotlib inline"
   ]
  },
  {
   "cell_type": "code",
   "execution_count": 2,
   "metadata": {},
   "outputs": [
    {
     "name": "stdout",
     "output_type": "stream",
     "text": [
      "WARNING:tensorflow:From <ipython-input-2-188b088e0975>:1: read_data_sets (from tensorflow.contrib.learn.python.learn.datasets.mnist) is deprecated and will be removed in a future version.\n",
      "Instructions for updating:\n",
      "Please use alternatives such as official/mnist/dataset.py from tensorflow/models.\n",
      "WARNING:tensorflow:From C:\\Users\\anshu\\Anaconda3\\lib\\site-packages\\tensorflow\\contrib\\learn\\python\\learn\\datasets\\mnist.py:260: maybe_download (from tensorflow.contrib.learn.python.learn.datasets.base) is deprecated and will be removed in a future version.\n",
      "Instructions for updating:\n",
      "Please write your own downloading logic.\n",
      "WARNING:tensorflow:From C:\\Users\\anshu\\Anaconda3\\lib\\site-packages\\tensorflow\\contrib\\learn\\python\\learn\\datasets\\mnist.py:262: extract_images (from tensorflow.contrib.learn.python.learn.datasets.mnist) is deprecated and will be removed in a future version.\n",
      "Instructions for updating:\n",
      "Please use tf.data to implement this functionality.\n",
      "Extracting ../03-Convolutional-Neural-Networks/MNIST_data/train-images-idx3-ubyte.gz\n",
      "WARNING:tensorflow:From C:\\Users\\anshu\\Anaconda3\\lib\\site-packages\\tensorflow\\contrib\\learn\\python\\learn\\datasets\\mnist.py:267: extract_labels (from tensorflow.contrib.learn.python.learn.datasets.mnist) is deprecated and will be removed in a future version.\n",
      "Instructions for updating:\n",
      "Please use tf.data to implement this functionality.\n",
      "Extracting ../03-Convolutional-Neural-Networks/MNIST_data/train-labels-idx1-ubyte.gz\n",
      "WARNING:tensorflow:From C:\\Users\\anshu\\Anaconda3\\lib\\site-packages\\tensorflow\\contrib\\learn\\python\\learn\\datasets\\mnist.py:110: dense_to_one_hot (from tensorflow.contrib.learn.python.learn.datasets.mnist) is deprecated and will be removed in a future version.\n",
      "Instructions for updating:\n",
      "Please use tf.one_hot on tensors.\n",
      "Extracting ../03-Convolutional-Neural-Networks/MNIST_data/t10k-images-idx3-ubyte.gz\n",
      "Extracting ../03-Convolutional-Neural-Networks/MNIST_data/t10k-labels-idx1-ubyte.gz\n",
      "WARNING:tensorflow:From C:\\Users\\anshu\\Anaconda3\\lib\\site-packages\\tensorflow\\contrib\\learn\\python\\learn\\datasets\\mnist.py:290: DataSet.__init__ (from tensorflow.contrib.learn.python.learn.datasets.mnist) is deprecated and will be removed in a future version.\n",
      "Instructions for updating:\n",
      "Please use alternatives such as official/mnist/dataset.py from tensorflow/models.\n"
     ]
    }
   ],
   "source": [
    "mnist = input_data.read_data_sets(\"../03-Convolutional-Neural-Networks/MNIST_data/\",one_hot=True)"
   ]
  },
  {
   "cell_type": "code",
   "execution_count": 3,
   "metadata": {},
   "outputs": [
    {
     "data": {
      "text/plain": [
       "<matplotlib.image.AxesImage at 0x24c4bf700b8>"
      ]
     },
     "execution_count": 3,
     "metadata": {},
     "output_type": "execute_result"
    },
    {
     "data": {
      "image/png": "[encoded data removed]",
      "text/plain": [
       "<Figure size 432x288 with 1 Axes>"
      ]
     },
     "metadata": {},
     "output_type": "display_data"
    }
   ],
   "source": [
    "plt.imshow(mnist.train.images[14].reshape(28,28), cmap='gray')"
   ]
  },
  {
   "cell_type": "code",
   "execution_count": 4,
   "metadata": {},
   "outputs": [],
   "source": [
    "num_steps = 100000\n",
    "batch_size = 64\n",
    "learning_rate = 0.001\n",
    "image_dim = 784 \n",
    "gen_hidden1_dim = 128\n",
    "gen_hidden2_dim = 128\n",
    "disc_hidden1_dim = 128\n",
    "disc_hidden2_dim = 128\n",
    "noise_dim = 100"
   ]
  },
  {
   "cell_type": "code",
   "execution_count": 5,
   "metadata": {},
   "outputs": [],
   "source": [
    "def glorot_init(shape):\n",
    "    return tf.random_normal(shape=shape, stddev=1. / tf.sqrt(shape[0] / 2.))"
   ]
  },
  {
   "cell_type": "code",
   "execution_count": 6,
   "metadata": {},
   "outputs": [],
   "source": [
    "weights = {\n",
    "    'gen_hidden1': tf.Variable(glorot_init([noise_dim, gen_hidden1_dim])),\n",
    "    'gen_hidden2': tf.Variable(glorot_init([gen_hidden1_dim, gen_hidden2_dim])),\n",
    "    'gen_out': tf.Variable(glorot_init([gen_hidden2_dim, image_dim])),\n",
    "    'disc_hidden1': tf.Variable(glorot_init([image_dim, disc_hidden1_dim])),\n",
    "    'disc_hidden2': tf.Variable(glorot_init([disc_hidden1_dim, disc_hidden2_dim])),\n",
    "    'disc_out': tf.Variable(glorot_init([disc_hidden2_dim, 1])),\n",
    "}\n",
    "biases = {\n",
    "    'gen_hidden1': tf.Variable(tf.zeros([gen_hidden1_dim])),\n",
    "    'gen_hidden2': tf.Variable(tf.zeros([gen_hidden2_dim])),\n",
    "    'gen_out': tf.Variable(tf.zeros([image_dim])),\n",
    "    'disc_hidden1': tf.Variable(tf.zeros([disc_hidden1_dim])),\n",
    "    'disc_hidden2': tf.Variable(tf.zeros([disc_hidden2_dim])),\n",
    "    'disc_out': tf.Variable(tf.zeros([1])),\n",
    "}"
   ]
  },
  {
   "cell_type": "code",
   "execution_count": 7,
   "metadata": {},
   "outputs": [],
   "source": [
    "def generator(x):\n",
    "    hidden_layer1 = tf.matmul(x, weights['gen_hidden1'])\n",
    "    hidden_layer1 = tf.add(hidden_layer1, biases['gen_hidden1'])\n",
    "    hidden_layer1 = tf.nn.leaky_relu(hidden_layer1,alpha=0.01)\n",
    "    \n",
    "    hidden_layer2 = tf.matmul(hidden_layer1, weights['gen_hidden2'])\n",
    "    hidden_layer2 = tf.add(hidden_layer2, biases['gen_hidden2'])\n",
    "    hidden_layer2 = tf.nn.leaky_relu(hidden_layer2,alpha=0.01)\n",
    "    \n",
    "    \n",
    "    out_layer = tf.matmul(hidden_layer2, weights['gen_out'])\n",
    "    out_layer = tf.add(out_layer, biases['gen_out'])\n",
    "    out_layer = tf.nn.tanh(out_layer)\n",
    "    return out_layer"
   ]
  },
  {
   "cell_type": "code",
   "execution_count": 8,
   "metadata": {},
   "outputs": [],
   "source": [
    "def discriminator(x):\n",
    "    hidden_layer1 = tf.matmul(x, weights['disc_hidden1'])\n",
    "    hidden_layer1 = tf.add(hidden_layer1, biases['disc_hidden1'])\n",
    "    hidden_layer1 = tf.nn.leaky_relu(hidden_layer1,alpha=0.01)\n",
    "    \n",
    "    hidden_layer2 = tf.matmul(hidden_layer1, weights['disc_hidden2'])\n",
    "    hidden_layer2 = tf.add(hidden_layer2, biases['disc_hidden2'])\n",
    "    hidden_layer2 = tf.nn.leaky_relu(hidden_layer2,alpha=0.01)\n",
    "    \n",
    "    \n",
    "    out_layer = tf.matmul(hidden_layer2, weights['disc_out'])\n",
    "    out_layer = tf.add(out_layer, biases['disc_out'])\n",
    "    out_layero = tf.nn.sigmoid(out_layer)\n",
    "    return out_layero,out_layer"
   ]
  },
  {
   "cell_type": "code",
   "execution_count": 9,
   "metadata": {},
   "outputs": [],
   "source": [
    "gen_input = tf.placeholder(tf.float32, shape=[None, noise_dim])\n",
    "disc_input = tf.placeholder(tf.float32, shape=[None, image_dim])"
   ]
  },
  {
   "cell_type": "code",
   "execution_count": 10,
   "metadata": {},
   "outputs": [],
   "source": [
    "gen_sample = generator(gen_input)"
   ]
  },
  {
   "cell_type": "code",
   "execution_count": 11,
   "metadata": {},
   "outputs": [],
   "source": [
    "disc_real,logits_real = discriminator(disc_input)\n",
    "disc_fake,logits_fake = discriminator(gen_sample)"
   ]
  },
  {
   "cell_type": "code",
   "execution_count": 12,
   "metadata": {},
   "outputs": [],
   "source": [
    "D_real_loss = tf.reduce_mean(tf.nn.sigmoid_cross_entropy_with_logits(logits=logits_real,labels=tf.ones_like(logits_real)*.9))\n",
    "D_fake_loss = tf.reduce_mean(tf.nn.sigmoid_cross_entropy_with_logits(logits=logits_fake,labels=tf.zeros_like(logits_fake)))"
   ]
  },
  {
   "cell_type": "code",
   "execution_count": 13,
   "metadata": {},
   "outputs": [],
   "source": [
    "disc_loss = D_real_loss + D_fake_loss"
   ]
  },
  {
   "cell_type": "code",
   "execution_count": 14,
   "metadata": {},
   "outputs": [],
   "source": [
    "gen_loss = tf.reduce_mean(tf.nn.sigmoid_cross_entropy_with_logits(logits=logits_fake,labels=tf.ones_like(logits_fake)))\n"
   ]
  },
  {
   "cell_type": "code",
   "execution_count": 15,
   "metadata": {},
   "outputs": [],
   "source": [
    "optimizer_gen = tf.train.AdamOptimizer(learning_rate=learning_rate)\n",
    "optimizer_disc = tf.train.AdamOptimizer(learning_rate=learning_rate)"
   ]
  },
  {
   "cell_type": "code",
   "execution_count": 16,
   "metadata": {},
   "outputs": [],
   "source": [
    "gen_vars = [weights['gen_hidden1'], weights['gen_out'],\n",
    "            weights['gen_hidden2'], \n",
    "            biases['gen_hidden1'], biases['gen_out'],biases['gen_hidden1']]"
   ]
  },
  {
   "cell_type": "code",
   "execution_count": 17,
   "metadata": {},
   "outputs": [],
   "source": [
    "disc_vars = [weights['disc_hidden1'], weights['disc_out'],weights['disc_hidden2'],\n",
    "            biases['disc_hidden1'], biases['disc_out'],biases['disc_hidden2']]"
   ]
  },
  {
   "cell_type": "code",
   "execution_count": 18,
   "metadata": {},
   "outputs": [],
   "source": [
    "train_gen = optimizer_gen.minimize(gen_loss, var_list=gen_vars)\n",
    "train_disc = optimizer_disc.minimize(disc_loss, var_list=disc_vars)"
   ]
  },
  {
   "cell_type": "code",
   "execution_count": 19,
   "metadata": {},
   "outputs": [],
   "source": [
    "init = tf.global_variables_initializer()\n",
    "sess = tf.Session()\n",
    "sess.run(init)"
   ]
  },
  {
   "cell_type": "code",
   "execution_count": 21,
   "metadata": {},
   "outputs": [
    {
     "name": "stdout",
     "output_type": "stream",
     "text": [
      "Step 1: Generator Loss: 0.326894, Discriminator Loss: 1.698704\n",
      "Step 2000: Generator Loss: 2.896327, Discriminator Loss: 0.568556\n",
      "Step 4000: Generator Loss: 5.946741, Discriminator Loss: 1.116622\n",
      "Step 6000: Generator Loss: 1.602587, Discriminator Loss: 1.163254\n",
      "Step 8000: Generator Loss: 5.871134, Discriminator Loss: 0.367179\n",
      "Step 10000: Generator Loss: 2.110141, Discriminator Loss: 0.857247\n",
      "Step 12000: Generator Loss: 2.817628, Discriminator Loss: 0.681384\n",
      "Step 14000: Generator Loss: 3.589025, Discriminator Loss: 0.586178\n",
      "Step 16000: Generator Loss: 2.414821, Discriminator Loss: 0.704427\n",
      "Step 18000: Generator Loss: 2.187096, Discriminator Loss: 0.877538\n",
      "Step 20000: Generator Loss: 1.805661, Discriminator Loss: 0.837398\n",
      "Step 22000: Generator Loss: 1.925250, Discriminator Loss: 0.720948\n",
      "Step 24000: Generator Loss: 2.432735, Discriminator Loss: 0.931917\n",
      "Step 26000: Generator Loss: 2.432887, Discriminator Loss: 0.818401\n",
      "Step 28000: Generator Loss: 1.880650, Discriminator Loss: 1.044151\n",
      "Step 30000: Generator Loss: 2.152410, Discriminator Loss: 0.777649\n",
      "Step 32000: Generator Loss: 1.751446, Discriminator Loss: 0.906741\n",
      "Step 34000: Generator Loss: 1.845613, Discriminator Loss: 0.943384\n",
      "Step 36000: Generator Loss: 1.911080, Discriminator Loss: 0.923966\n",
      "Step 38000: Generator Loss: 1.460076, Discriminator Loss: 1.073302\n",
      "Step 40000: Generator Loss: 1.340747, Discriminator Loss: 1.099404\n",
      "Step 42000: Generator Loss: 1.655381, Discriminator Loss: 1.058953\n",
      "Step 44000: Generator Loss: 1.844079, Discriminator Loss: 1.014820\n",
      "Step 46000: Generator Loss: 1.354650, Discriminator Loss: 0.914189\n",
      "Step 48000: Generator Loss: 1.773444, Discriminator Loss: 0.924199\n",
      "Step 50000: Generator Loss: 1.636741, Discriminator Loss: 1.088845\n",
      "Step 52000: Generator Loss: 1.350556, Discriminator Loss: 1.247478\n",
      "Step 54000: Generator Loss: 1.531467, Discriminator Loss: 1.071798\n",
      "Step 56000: Generator Loss: 1.401747, Discriminator Loss: 1.097633\n",
      "Step 58000: Generator Loss: 1.469054, Discriminator Loss: 1.120358\n",
      "Step 60000: Generator Loss: 1.629018, Discriminator Loss: 1.043141\n",
      "Step 62000: Generator Loss: 1.213690, Discriminator Loss: 1.196437\n",
      "Step 64000: Generator Loss: 0.982779, Discriminator Loss: 1.180489\n",
      "Step 66000: Generator Loss: 1.207228, Discriminator Loss: 1.180872\n",
      "Step 68000: Generator Loss: 1.563451, Discriminator Loss: 1.040658\n",
      "Step 70000: Generator Loss: 1.226794, Discriminator Loss: 1.214708\n",
      "Step 72000: Generator Loss: 1.205151, Discriminator Loss: 1.118409\n",
      "Step 74000: Generator Loss: 1.374577, Discriminator Loss: 1.145385\n",
      "Step 76000: Generator Loss: 1.152024, Discriminator Loss: 1.334448\n",
      "Step 78000: Generator Loss: 0.872817, Discriminator Loss: 1.249257\n",
      "Step 80000: Generator Loss: 1.285567, Discriminator Loss: 1.213055\n",
      "Step 82000: Generator Loss: 1.407083, Discriminator Loss: 1.082921\n",
      "Step 84000: Generator Loss: 1.325934, Discriminator Loss: 1.149766\n",
      "Step 86000: Generator Loss: 1.316744, Discriminator Loss: 1.101155\n",
      "Step 88000: Generator Loss: 1.238725, Discriminator Loss: 1.166535\n",
      "Step 90000: Generator Loss: 1.534803, Discriminator Loss: 1.006943\n",
      "Step 92000: Generator Loss: 1.740414, Discriminator Loss: 1.322568\n",
      "Step 94000: Generator Loss: 1.236864, Discriminator Loss: 1.129567\n",
      "Step 96000: Generator Loss: 1.340324, Discriminator Loss: 1.096915\n",
      "Step 98000: Generator Loss: 1.667437, Discriminator Loss: 1.068260\n",
      "Step 100000: Generator Loss: 1.552604, Discriminator Loss: 1.064870\n"
     ]
    }
   ],
   "source": [
    "for i in range(1, num_steps+1):\n",
    "    \n",
    "    batch_image, _ = mnist.train.next_batch(batch_size)\n",
    "    batch_x = batch_image.reshape((batch_size,784))\n",
    "    batch_x = batch_x*2 -1\n",
    "    \n",
    "    z = np.random.uniform(-1., 1., size=[batch_size, noise_dim])\n",
    "\n",
    "    \n",
    "    feed_dict = {disc_input: batch_x, gen_input: z}\n",
    "    _, _, gl, dl = sess.run([train_gen, train_disc, gen_loss, disc_loss],\n",
    "                            feed_dict=feed_dict)\n",
    "    if i % 2000 == 0 or i == 1:\n",
    "        print('Step %i: Generator Loss: %f, Discriminator Loss: %f' % (i, gl, dl))"
   ]
  },
  {
   "cell_type": "code",
   "execution_count": 32,
   "metadata": {},
   "outputs": [
    {
     "data": {
      "image/png": "[encoded data removed]",
      "text/plain": [
       "<Figure size 432x432 with 1 Axes>"
      ]
     },
     "metadata": {},
     "output_type": "display_data"
    }
   ],
   "source": [
    "n = 6\n",
    "canvas = np.empty((28 * n, 28 * n))\n",
    "for i in range(n):   \n",
    "    z = np.random.uniform(-1., 1., size=[n, noise_dim])    \n",
    "    g = sess.run(gen_sample, feed_dict={gen_input: z})\n",
    "    #g = -1 * (g - 1)\n",
    "    for j in range(n):\n",
    "        \n",
    "        canvas[i * 28:(i + 1) * 28, j * 28:(j + 1) * 28] = g[j].reshape([28, 28])\n",
    "\n",
    "plt.figure(figsize=(n, n))\n",
    "plt.imshow(canvas, origin=\"upper\", cmap=\"gray\")\n",
    "plt.show()"
   ]
  },
  {
   "cell_type": "code",
   "execution_count": null,
   "metadata": {},
   "outputs": [],
   "source": []
  },
  {
   "cell_type": "code",
   "execution_count": null,
   "metadata": {},
   "outputs": [],
   "source": []
  }
 ],
 "metadata": {
  "kernelspec": {
   "display_name": "Python 3",
   "language": "python",
   "name": "python3"
  },
  "language_info": {
   "codemirror_mode": {
    "name": "ipython",
    "version": 3
   },
   "file_extension": ".py",
   "mimetype": "text/x-python",
   "name": "python",
   "nbconvert_exporter": "python",
   "pygments_lexer": "ipython3",
   "version": "3.6.5"
  }
 },
 "nbformat": 4,
 "nbformat_minor": 2
}
